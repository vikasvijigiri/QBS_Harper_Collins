{
 "cells": [
  {
   "cell_type": "code",
   "execution_count": 7,
   "id": "386800f1-789e-4531-87eb-b8f13d402893",
   "metadata": {},
   "outputs": [],
   "source": [
    "import os\n",
    "import openai\n",
    "import src\n",
    "import combine"
   ]
  },
  {
   "cell_type": "code",
   "execution_count": null,
   "id": "ef27c137-362e-47a6-ac55-641e102ded7b",
   "metadata": {},
   "outputs": [],
   "source": [
    "topics = \"\"\"\n",
    "Chapter 4. Force and Laws of Motion\n",
    "1. Banking of roads (only theory).\n",
    "2. Conservation of momentum.\n",
    "3.\n",
    "4.\n",
    "\"\"\""
   ]
  },
  {
   "cell_type": "markdown",
   "id": "67f3c434-b4e9-498b-bfcc-10a72fd29639",
   "metadata": {
    "jp-MarkdownHeadingCollapsed": true
   },
   "source": [
    "## Reference books"
   ]
  },
  {
   "cell_type": "markdown",
   "id": "3048f670-44e0-4d48-9198-0ac6b67f71a5",
   "metadata": {},
   "source": [
    "## Savvaas, NCERT class 11th"
   ]
  },
  {
   "cell_type": "markdown",
   "id": "d6e3ecea-7011-4ff6-96fa-1d91f0d27307",
   "metadata": {},
   "source": [
    "## Content Generator part"
   ]
  },
  {
   "cell_type": "code",
   "execution_count": null,
   "id": "4ea01dba-8251-4ac9-9d46-2edbcdbabe99",
   "metadata": {},
   "outputs": [],
   "source": [
    "system_message = \"\"\"\n",
    "    You are an expert educator and book publisher or quality content generator for publishing class 9 textbook in physics. \n",
    "    Your goal is to create table of contents for a physics textbook for grade 10th which is to be published (US).        \n",
    "    You have to give the output strictly in LATEX format only. Use beautiful colors, bold fonts and indents wherever needed.\n",
    "    You should not give too many sections, you should be very detailed in your explanation.\n",
    "\"\"\"\n",
    "\n",
    "user_message = f\"\"\"\n",
    "    Make the following topics as table of contents type:\n",
    "\n",
    "    {topics}\n",
    "\"\"\"    \n",
    "#src.from_prompt_gen_ans_main(\"fdocs/toc.docx\", system_message, user_message)\n"
   ]
  },
  {
   "cell_type": "code",
   "execution_count": 22,
   "id": "31b8539f-beb1-43a1-8a95-df2aec25a474",
   "metadata": {},
   "outputs": [],
   "source": [
    "system_message = \"\"\"\n",
    "    You are an expert educator and book publisher or quality content generator for publishing class 9 textbook in physics. \n",
    "    Your goal is to write a detailed general introduction of all the topics provided for a class 9 physics textbook which is to be published (US).  \n",
    "    You should not give too many sections or sub-sections, you should be extremely very detailed (give very detailed understanding of any term or concept before introduction, now matter how trivial it might be) in your explanation like a smooth flow of concepts and like a story-telling oriented.\n",
    "    You must write minimum 6 pages of introduction. Start with real-world examples, connect the examples with the topic/concept and engage the students creatively but asking a curious question at the end.\n",
    "    You have to give the output strictly in 'error-free', 'properly compilable' LATEX format only where you can use beautiful colors, bold fonts, and indents wherever needed.\n",
    "    You should not put headings as If you are helping me in generating content, you should behave like a textbook yourself. \n",
    "    You should not write more than 6 pages.\n",
    "\"\"\"\n",
    "\n",
    "user_message = f\"\"\"\n",
    "\n",
    "    Chapter topics based on which you should write introduction is:\n",
    "    \n",
    "    \"\n",
    "    {topics}\n",
    "    \"\n",
    "    -------------------------------------------------------\n",
    "    \n",
    "    Follow these guidelines:\n",
    " \n",
    "    \"\n",
    "    Provide a brief overview of the chapter topic. Use bold words wherever necessary.\n",
    "    Explain the importance and relevance of the subject matter in understanding the physical world.\n",
    "    Mention any historical context or background information that helps introduce the topic.\n",
    "    Set the stage for the concepts that will be discussed.\n",
    "    \"\n",
    "\"\"\""
   ]
  },
  {
   "cell_type": "code",
   "execution_count": 24,
   "id": "048b1353-c993-4f1e-a66d-a0839a533f7c",
   "metadata": {},
   "outputs": [
    {
     "name": "stdout",
     "output_type": "stream",
     "text": [
      "Content successfully written to fdocs/intro.docx\n"
     ]
    }
   ],
   "source": [
    "src.from_prompt_gen_ans_main(\"fdocs/intro.docx\", system_message, user_message)"
   ]
  },
  {
   "cell_type": "code",
   "execution_count": 18,
   "id": "a380bca4-5ba8-4581-9a42-1f9fa5f71cd0",
   "metadata": {},
   "outputs": [
    {
     "name": "stdout",
     "output_type": "stream",
     "text": [
      "Content successfully written to ./fdocs/objectives.docx\n"
     ]
    }
   ],
   "source": [
    "system_message = \"\"\"\n",
    "    You are an expert educator and book publisher or quality content generator for publishing a textbook in \"physics\". \n",
    "    Your goal is to write a 'objectives' part (after introduction which you have already gave in your previous response, user has provided that so you can look into it) of all the topics provided for a class 9 physics textbook which is to be published (US).  \n",
    "    You can take reference of NCERT physics textbook of class 11 and other US based Physics textbooks for reference. \n",
    "    You should not give too many sections or sub-sections, you can be very detailed in your explanation.\n",
    "    You have to give the output strictly in 'error-free', 'properly compilable' LATEX format only where you can use beautiful colors, bold fonts, and indents wherever needed.\n",
    "    You should not write more than a single page.\n",
    "\"\"\"\n",
    "\n",
    "\n",
    "file_path = \"./fdocs/intro.docx\"  # Replace with your DOCX file path\n",
    "presponse = src.read_docx(file_path)\n",
    "\n",
    "user_message = f\"\"\"\n",
    "\n",
    "    Your introduction response was, -\n",
    "\n",
    "    {presponse}\n",
    "    \n",
    "    \"\n",
    "    {topics}\n",
    "    \"\n",
    "\n",
    "    Now create a quality content for objectives part of all the topics mentioned above.\n",
    "\n",
    "\n",
    "    Follow the guidelines below for more details of the structure.\n",
    "    \n",
    "    \"Objectives:\n",
    "    \n",
    "    List the key learning objectives or takeaways for the chapter.\n",
    "    The content should be more engaging with the motivation from the examples provided in the introduction.\n",
    "    Clearly outline (along with the context from the introduction) what the reader is expected to understand or be able to do by the end of the chapter.\n",
    "    \"\n",
    "\"\"\"\n",
    "\n",
    "src.from_prompt_gen_ans_main(\"./fdocs/objectives.docx\", system_message, user_message)"
   ]
  },
  {
   "cell_type": "markdown",
   "id": "94cb2af1-67d9-45a8-9dd0-3f6b379a2558",
   "metadata": {},
   "source": [
    "## Theoretical Concepts (Explain)"
   ]
  },
  {
   "cell_type": "code",
   "execution_count": 20,
   "id": "ca2bed5a-f81d-4e3b-80ab-5f0c7070dfe7",
   "metadata": {},
   "outputs": [],
   "source": [
    "guidelines = \"\"\"\n",
    "    1. You must not give too many sections or sub-sections, you should be extremely very detailed (give very detailed understanding of any term or concept before introduction, now matter how trivial it might be) in your explanation like a smooth flow of concepts and like a story-telling oriented.\n",
    "    2. You must give age-appropriate explanation of every term, every concept, everything including the terms involved in the formulas. Also, every explanation of a concept should be followed by an example, you can take that from your previous responses of introduction and objectives.\n",
    "    3. You must give a \"Did you know?\" paragraph in a nice box. An age-appropriate fact/curious thing of the topic.     \n",
    "    4. You must not give too many sections or sub-sections.\n",
    "    5. You must give the output strictly in 'error-free' 'properly compilable' LATEX format only, you can use beautiful colors, bold fonts, and proper spacings for readability and indents wherever needed.\n",
    "    6. You must make sure that the entire Theoretical concept part should be like smooth flow with smooth transition from one concept to another. \n",
    "    7. You must make sure that instead of giving straight away definition of a term, give a very detailed explanation or introduction, so that It makes the reader curious and interesting, you can include lengthy paragraphs.\n",
    "\"\"\"\n",
    "\n",
    "template = \"\"\"\n",
    "    1. Start with a scenarios and detailedly explain the concepts involved in it and connect to the topic. \n",
    "    2. Introduce detailedly with an example context you have already provided in the introduction part and slowly connect it to the core concepts of the chapter in a clear, concise manner.\n",
    "    3. Include a \"Did you know?\" section with a paragraph or two in a nice box/table.\n",
    "    3. Explain detailedly using the context to slowly get into the principles, laws, and theories, including necessary definitions.\n",
    "    4. Explain detailedly mathematical derivations or content in equation format, to help explain the concepts followed by an example.\n",
    "\"\"\""
   ]
  },
  {
   "cell_type": "code",
   "execution_count": null,
   "id": "61637e7d-a273-4ac4-bb32-a19170adbc6f",
   "metadata": {},
   "outputs": [],
   "source": [
    "system_message = \"\"\"\n",
    "    You are an expert educator in physics and also a quality content generator for publishing a physics textbook of class 9. \n",
    "    Your goal is to create a very detailed \"Theoretical Concept\" part of a topic of a chapter for class 9 physics textbook (US).\n",
    "    Your should keep in maind through the chapter that you should only generate age-appropriate content throughout.\n",
    "\"\"\"\n",
    "\n",
    "# Example usage:\n",
    "file_path = \"./fdocs/intro.docx\"  # Replace with your DOCX file path\n",
    "presponse = src.read_docx(file_path)\n",
    "file_path = \"./fdocs/objectives.docx\"  # Replace with your DOCX file path\n",
    "presponse += src.read_docx(file_path)\n",
    "# Example usage:\n",
    "file_path = \"./fdocs/theoretical_concepts_1.docx\"  # Replace with your DOCX file path\n",
    "presponse += src.read_docx(file_path)\n",
    "file_path = \"./fdocs/theoretical_concepts_2.docx\"  # Replace with your DOCX file path\n",
    "presponse += src.read_docx(file_path)\n",
    "\n",
    "\n",
    "\n",
    "user_message = f\"\"\"\n",
    "    You already gave me content:\n",
    "\n",
    "    {presponse}.\n",
    "\n",
    "    --------------------------------------------------------\n",
    "    Now, the topic to be created here is:\n",
    "    \n",
    "    \"\n",
    "    Chapter - Motion:\n",
    "        3. Rotational Dynamics.\n",
    "            iii. Angular Motion.        \n",
    "    \"\n",
    "\n",
    "    --------------------------------------------------------\n",
    "    --------------------------------------------------------\n",
    "    Template you can follow:\n",
    "    ------------------------\n",
    "    \n",
    "    \"\n",
    "    {template}\n",
    "    \"\n",
    "\n",
    "    Guidelines you must follow are:\n",
    "    -------------------------------\n",
    "    {guidelines}\n",
    "\"\"\"\n",
    "\n",
    "src.from_prompt_gen_ans_main(\"./fdocs/theoretical_concepts_3.docx\", system_message, user_message)"
   ]
  },
  {
   "cell_type": "markdown",
   "id": "f65b04d9-d6ab-4543-8af3-e64b232909a5",
   "metadata": {},
   "source": [
    "### Imp formulas and equations "
   ]
  },
  {
   "cell_type": "code",
   "execution_count": 26,
   "id": "d99a80b1-bce6-49c9-89dc-5de24194fece",
   "metadata": {},
   "outputs": [
    {
     "name": "stdout",
     "output_type": "stream",
     "text": [
      "Content successfully written to ./fdocs/imp_form_eqs.docx\n"
     ]
    }
   ],
   "source": [
    "system_message = \"\"\"\n",
    "    You are an expert educator in physics and also a quality physics content generator or for publishing a physics textbook of class 9. \n",
    "    Your goal is to create \"Important formulae and equations\" part of a physics chapter provided by the user for class 9 (US).\n",
    "    You can take reference of NCERT physics textbook of class 11 and other US based Physics textbooks for reference. \n",
    "    You have to give the output strictly in error-free properly compilable LATEX format only. You can use beautiful colors, bold fonts, nice spacings and indents wherever needed.\n",
    "\"\"\"\n",
    "\n",
    "\n",
    "file_path = \"./fdocs/intro.docx\"  # Replace with your DOCX file path\n",
    "presponse = src.read_docx(file_path)\n",
    "file_path = \"./fdocs/objectives.docx\"  # Replace with your DOCX file path\n",
    "presponse += src.read_docx(file_path)\n",
    "\n",
    "file_path = \"./fdocs/theoretical_concepts_1.docx\"  # Replace with your DOCX file path\n",
    "presponse += src.read_docx(file_path)\n",
    "\n",
    "file_path = \"./fdocs/theoretical_concepts_2.docx\"  # Replace with your DOCX file path\n",
    "presponse += src.read_docx(file_path)\n",
    "\n",
    "file_path = \"./fdocs/theoretical_concepts_3.docx\"  # Replace with your DOCX file path\n",
    "presponse += src.read_docx(file_path)\n",
    "\n",
    "file_path = \"./fdocs/theoretical_concepts_4.docx\"  # Replace with your DOCX file path\n",
    "presponse += src.read_docx(file_path)\n",
    "\n",
    "# file_path = \"./fdocs/theoretical_concepts_5.docx\"  # Replace with your DOCX file path\n",
    "# presponse += src.read_docx(file_path)\n",
    "\n",
    "# file_path = \"./fdocs/theoretical_concepts_6.docx\"  # Replace with your DOCX file path\n",
    "# presponse += src.read_docx(file_path)\n",
    "\n",
    "user_message = f\"\"\"\n",
    "    Topics under which you have to design are:\n",
    "    \n",
    "    \"\n",
    "    {topics}\n",
    "    \"\n",
    "\n",
    "    Your previous response for Introduction, Objectives and Theoretical concepts part was\n",
    "\n",
    "    {presponse}\n",
    "\n",
    "\n",
    "    ------------------------------------------------------------------\n",
    "    Now, give me the next part below For the topics mentioned:\n",
    "\n",
    "\n",
    "    Follow these guidelines:\n",
    "    \n",
    "    \"\n",
    "    Important Formulae and Equations:\n",
    "    \n",
    "    Just List and briefly explain all the important formulas (in box), equations (in box), and laws introduced in the chapter.\n",
    "    Provide clear definitions for each formula and describe how and when to use them.\n",
    "    Strictly use boxed formulas or highlighted sections to make the formulas easy to reference.\n",
    "    \"\n",
    "\"\"\"\n",
    "\n",
    "src.from_prompt_gen_ans_main(\"./fdocs/imp_form_eqs.docx\", system_message, user_message)"
   ]
  },
  {
   "cell_type": "code",
   "execution_count": 28,
   "id": "2e7f6d6e-ef4c-478d-803f-fb1c144dcb80",
   "metadata": {
    "collapsed": true,
    "jupyter": {
     "outputs_hidden": true,
     "source_hidden": true
    }
   },
   "outputs": [
    {
     "name": "stdout",
     "output_type": "stream",
     "text": [
      "Content successfully written to ./fdocs/solved_examples.docx\n"
     ]
    }
   ],
   "source": [
    "system_message = \"\"\"\n",
    "    You are an expert educator in physics and also a quality physics content generator or for publishing a textbook of class 9. \n",
    "    Your goal is to create \"solved examples\" part of a physics chapter provided by the user for grade 9th in US.\n",
    "    You must keep in mind that the content should be very very engaging and very friendly to students. Like as if we are talking to stuents.    \n",
    "    You can take reference of NCERT physics textbook of class 11 and other US based Physics textbooks for reference. \n",
    "    You have to give the output strictly in error-free properly compilable LATEX format only. You can use beautiful colors, bold fonts, spacings and indents wherever needed.\n",
    "    You should not give too many sections or sub-sections, you should be very detailed in your explanation.\n",
    "    You should write atleast 5 lines of 10 paragraphs (entirely) whenever there is an explanation involved.\n",
    "    You should not write conclusion at the end.\n",
    "    Lastly, You must create atleast 10 pages of formulas with each topic or subtopic a minimum of 3 pages each.\n",
    "\"\"\"\n",
    "\n",
    "\n",
    "file_path = \"./fdocs/intro.docx\"  # Replace with your DOCX file path\n",
    "presponse = src.read_docx(file_path)\n",
    "file_path = \"./fdocs/objectives.docx\"  # Replace with your DOCX file path\n",
    "presponse += src.read_docx(file_path)\n",
    "file_path = \"./fdocs/theoretical_concepts.docx\"  # Replace with your DOCX file path\n",
    "presponse += src.read_docx(file_path)\n",
    "file_path = \"./fdocs/imp_form_eqs.docx\"  # Replace with your DOCX file path\n",
    "presponse += src.read_docx(file_path)\n",
    "\n",
    "\n",
    "user_message = f\"\"\"\n",
    "    Topics under which you have to design are (all should be covered detailedly):\n",
    "    \n",
    "    \"\n",
    "    {topics}\n",
    "    \"\n",
    "\n",
    "    Your previous response for \"Introduction\", \"Objectives\" and \"theoretical concepts\" part was\n",
    "\n",
    "    {presponse}\n",
    "\n",
    "\n",
    "    -------------------------------------------------------------------\n",
    "    -------------------------------------------------------------------\n",
    "    Now give me the next part below For the topics mentioned already:\n",
    "        \n",
    "    \"   \n",
    "    Solved Examples:\n",
    "    \n",
    "    Present several solved examples to demonstrate the practical application of the concepts discussed.\n",
    "    Break each example into clear, logical steps to show the problem-solving process.\n",
    "    Highlight the method used to solve the example, and provide explanations along the way.\n",
    "    Include diverse examples, ranging from basic to more complex, to ensure thorough understanding.\n",
    "    \"\n",
    "\"\"\"\n",
    "\n",
    "src.from_prompt_gen_ans_main(\"./fdocs/solved_examples.docx\", system_message, user_message)"
   ]
  },
  {
   "cell_type": "code",
   "execution_count": 27,
   "id": "f15532f0-d3b8-455f-a609-eba589b5bbdd",
   "metadata": {},
   "outputs": [
    {
     "name": "stdout",
     "output_type": "stream",
     "text": [
      "Content successfully written to ./fdocs/practice_probs.docx\n"
     ]
    }
   ],
   "source": [
    "system_message = \"\"\"\n",
    "    You are an expert educator in physics and also a quality physics content generator or for publishing a textbook of class 9. \n",
    "    Your goal is to create \"practice problems\" part of a physics chapter provided by the user for grade 9th in US.\n",
    "    You must keep in mind that the content should be very very engaging and very friendly to students. Like as if we are talking to stuents.    \n",
    "    You can take reference of NCERT physics textbook of class 11 and other US based Physics textbooks for reference. \n",
    "    You have to give the output strictly in error-free properly compilable LATEX format only. You can use beautiful colors, bold fonts, spacings and indents wherever needed.\n",
    "    You should not give too many sections or sub-sections, you should be very detailed in your explanation.\n",
    "    You should write atleast 5 lines of 10 paragraphs (entirely) whenever there is an explanation involved.\n",
    "    You should not write conclusion at the end.\n",
    "    Lastly, You must create atleast 10 pages of formulas with each topic or subtopic a minimum of 3 pages each.\n",
    "\"\"\"\n",
    "\n",
    "\n",
    "file_path = \"./fdocs/intro.docx\"  # Replace with your DOCX file path\n",
    "presponse = src.read_docx(file_path)\n",
    "file_path = \"./fdocs/objectives.docx\"  # Replace with your DOCX file path\n",
    "presponse += src.read_docx(file_path)\n",
    "file_path = \"./fdocs/theoretical_concepts_1.docx\"  # Replace with your DOCX file path\n",
    "presponse += src.read_docx(file_path)\n",
    "file_path = \"./fdocs/theoretical_concepts_2.docx\"  # Replace with your DOCX file path\n",
    "presponse += src.read_docx(file_path)\n",
    "file_path = \"./fdocs/theoretical_concepts_3.docx\"  # Replace with your DOCX file path\n",
    "presponse += src.read_docx(file_path)\n",
    "file_path = \"./fdocs/theoretical_concepts_4.docx\"  # Replace with your DOCX file path\n",
    "presponse += src.read_docx(file_path)\n",
    "file_path = \"./fdocs/theoretical_concepts_5.docx\"  # Replace with your DOCX file path\n",
    "presponse += src.read_docx(file_path)\n",
    "file_path = \"./fdocs/theoretical_concepts_6.docx\"  # Replace with your DOCX file path\n",
    "presponse += src.read_docx(file_path)\n",
    "file_path = \"./fdocs/imp_form_eqs.docx\"  # Replace with your DOCX file path\n",
    "presponse += src.read_docx(file_path)\n",
    "\n",
    "\n",
    "user_message = f\"\"\"\n",
    "    Topics under which you have to design are (all should be covered detailedly):\n",
    "    \n",
    "    \"\n",
    "    {topics}\n",
    "    \"\n",
    "\n",
    "    Your previous response for Introduction, Objectives and Theoretical_concepts part was\n",
    "\n",
    "    {presponse}\n",
    "\n",
    "\n",
    "\n",
    "    --------------------------------------------------------------------------------------------------------------------------------------\n",
    "    --------------------------------------------------------------------------------------------------------------------------------------\n",
    "    \n",
    "    Now give me the next part below For the topics mentioned already:\n",
    "        \n",
    "    \"\n",
    "    Practice Problems:\n",
    "    \n",
    "    Provide a set of practice problems for students to solve, reinforcing the concepts introduced.\n",
    "    The problems should range in difficulty, from basic exercises to more advanced challenges.\n",
    "    Include a mix of multiple-choice questions (MCQs), short-answer questions, and long-answer questions.\n",
    "    If applicable, give hints or steps for solving particularly tricky problems.\n",
    "    \"\n",
    "    \n",
    "    \n",
    "    \n",
    "    Give 10 MCQs, 10 Short Answer Questions, 5 LAQs and etc.\n",
    "\"\"\"\n",
    "\n",
    "src.from_prompt_gen_ans_main(\"./fdocs/practice_probs.docx\", system_message, user_message)"
   ]
  },
  {
   "cell_type": "code",
   "execution_count": 29,
   "id": "66c8adcb-f4d0-47bd-9be4-a3fc2ffe179a",
   "metadata": {},
   "outputs": [
    {
     "name": "stdout",
     "output_type": "stream",
     "text": [
      "Content successfully written to ./fdocs/summary.docx\n"
     ]
    }
   ],
   "source": [
    " system_message = \"\"\"\n",
    "    You are an expert educator and a skilled book publsisher/maker in physics. \n",
    "    Your goal is to create 'Summary' part of a physics chapter for grade 9th in US.\n",
    "    You must keep in mind that the content should be very very engaging and very friendly to students. Like as if we are talking to stuents.\n",
    "    These books will be ultimately studied by grade 9th students.\n",
    "    You can refer to NCERT textbooks from web of class 11th physics (India) or savvaas book (US).\n",
    "    You have to give the output strictly in error-free properly compilable LATEX format only. You can use beautiful colors, bold fonts, spacings and indents wherever needed.\n",
    "\"\"\"\n",
    "\n",
    "\n",
    "file_path = \"./fdocs/intro.docx\"  # Replace with your DOCX file path\n",
    "presponse = src.read_docx(file_path)\n",
    "file_path = \"./fdocs/objectives.docx\"  # Replace with your DOCX file path\n",
    "presponse += src.read_docx(file_path)\n",
    "file_path = \"./fdocs/theoretical_concepts_1.docx\"  # Replace with your DOCX file path\n",
    "presponse += src.read_docx(file_path)\n",
    "file_path = \"./fdocs/theoretical_concepts_2.docx\"  # Replace with your DOCX file path\n",
    "presponse += src.read_docx(file_path)\n",
    "file_path = \"./fdocs/theoretical_concepts_3.docx\"  # Replace with your DOCX file path\n",
    "presponse += src.read_docx(file_path)\n",
    "file_path = \"./fdocs/theoretical_concepts_4.docx\"  # Replace with your DOCX file path\n",
    "presponse += src.read_docx(file_path)\n",
    "file_path = \"./fdocs/theoretical_concepts_5.docx\"  # Replace with your DOCX file path\n",
    "presponse += src.read_docx(file_path)\n",
    "file_path = \"./fdocs/theoretical_concepts_6.docx\"  # Replace with your DOCX file path\n",
    "\n",
    "user_message = f\"\"\"\n",
    "\n",
    "    Topics under which you have to design are (all should be covered detailedly):\n",
    "    \n",
    "    \"\n",
    "    {topics}\n",
    "    \"\n",
    "\n",
    "    Your previous response for Introduction, Objectives and Theoretical_concepts part was\n",
    "\n",
    "    {presponse}\n",
    "\n",
    "\n",
    "    \n",
    "    --------------------------------------------------------------------------------------\n",
    "    --------------------------------------------------------------------------------------\n",
    "    \n",
    "    Now give me the next part below for the part mentioned already:\n",
    "        \n",
    "    \"\n",
    "    Summary:\n",
    "    ---------\n",
    "    \n",
    "    Use the chapter's content to summarize (in long paragraphs) the chapter in words (should not be technical and not more than 4 pages). \n",
    "    \"\n",
    "\"\"\"\n",
    "    \n",
    "    \n",
    "src.from_prompt_gen_ans_main(\"./fdocs/summary.docx\", system_message, user_message)"
   ]
  },
  {
   "cell_type": "code",
   "execution_count": 31,
   "id": "d0b9da45-bb36-4041-a0a3-11ed70799226",
   "metadata": {
    "collapsed": true,
    "jupyter": {
     "outputs_hidden": true,
     "source_hidden": true
    }
   },
   "outputs": [
    {
     "name": "stdout",
     "output_type": "stream",
     "text": [
      "Content successfully written to ./fdocs/applications.docx\n"
     ]
    }
   ],
   "source": [
    " system_message = \"\"\"\n",
    "    You are an expert educator and a skilled book publisher/maker in physics. \n",
    "    Your goal is to create 'applications of the concepts explained' part of a physics chapter for grade 9th in US.\n",
    "    You must keep in mind that the content should be very very engaging and very friendly to students. Like as if we are talking to stuents.\n",
    "    These books will be ultimately studied by grade 9th students.\n",
    "    You can refer to NCERT textbooks from web of class 11th physics (India) or savvaas book (US).\n",
    "\"\"\"\n",
    "\n",
    "\n",
    "file_path = \"./fdocs/intro.docx\"  # Replace with your DOCX file path\n",
    "presponse = src.read_docx(file_path)\n",
    "file_path = \"./fdocs/objectives.docx\"  # Replace with your DOCX file path\n",
    "presponse += src.read_docx(file_path)\n",
    "file_path = \"./fdocs/theoretical_concepts.docx\"  # Replace with your DOCX file path\n",
    "presponse += src.read_docx(file_path)\n",
    "file_path = \"./fdocs/imp_form_eqs.docx\"  # Replace with your DOCX file path\n",
    "presponse += src.read_docx(file_path)\n",
    "file_path = \"./fdocs/solved_examples.docx\"  # Replace with your DOCX file path\n",
    "presponse += src.read_docx(file_path)\n",
    "file_path = \"./fdocs/solved_examples.docx\"  # Replace with your DOCX file path\n",
    "presponse += src.read_docx(file_path)\n",
    "file_path = \"./fdocs/practice_probs.docx\"  # Replace with your DOCX file path\n",
    "presponse += src.read_docx(file_path)\n",
    "file_path = \"./fdocs/summary.docx\"  # Replace with your DOCX file path\n",
    "presponse += src.read_docx(file_path)\n",
    "\n",
    "user_message = f\"\"\"\n",
    "\n",
    "    Topics under which you have to design are (all should be covered detailedly):\n",
    "    \n",
    "    \"\n",
    "    {topics}\n",
    "    \"\n",
    "\n",
    "    Your previous response for Introduction, Objectives and Theoretical_concepts part was\n",
    "\n",
    "    {presponse}\n",
    "\n",
    "\n",
    "    --------------------------------------------------------------------------------------------------------------------------------------\n",
    "    --------------------------------------------------------------------------------------------------------------------------------------\n",
    "    \n",
    "    Now give me the next part below For the topics mentioned already:\n",
    "        \n",
    "    \"\n",
    "    Important Terms and Definitions:\n",
    "    \n",
    "    List the key terms, concepts, and definitions from the chapter.\n",
    "    Look into your previous sections content provided above for reference of whatv formulas y0ou gave etc.\n",
    "    Provide concise and clear explanations of each term.\n",
    "    Include these terms as a reference guide for quick revision.\n",
    "    Applications and Real-World Examples:\n",
    "    \n",
    "    Discuss how the chapter's concepts apply to the real world.\n",
    "    Provide examples of technology, industry, or everyday life where these principles are used.\n",
    "    Explore the relevance of the concepts to scientific advancements or technological innovations.\n",
    "    \"\n",
    "\"\"\"\n",
    "\n",
    "src.from_prompt_gen_ans_main(\"./fdocs/applications.docx\", system_message, user_message)"
   ]
  },
  {
   "cell_type": "code",
   "execution_count": 32,
   "id": "04997a8b-9b36-4176-9f4b-79f14e9a1055",
   "metadata": {},
   "outputs": [
    {
     "name": "stdout",
     "output_type": "stream",
     "text": [
      "Combined document saved as: ./fdocs/motion.docx\n"
     ]
    }
   ],
   "source": [
    "# Example usage:\n",
    "file_list = [\"./fdocs/intro.docx\", \"./fdocs/objectives.docx\", \"./fdocs/theoretical_concepts_1.docx\", \"./fdocs/theoretical_concepts_2.docx\", \"./fdocs/theoretical_concepts_3.docx\", \"./fdocs/theoretical_concepts_4.docx\", \"./fdocs/imp_form_eqs.docx\", \"./fdocs/summary.docx\", \"./fdocs/practice_probs.docx\"]  # List of DOCX files in order\n",
    "output_file = \"./fdocs/motion.docx\"\n",
    "combine.combine_docx_files(file_list, output_file)"
   ]
  },
  {
   "cell_type": "code",
   "execution_count": 26,
   "id": "f8356db8-2988-4a75-835e-ad3157b07d30",
   "metadata": {},
   "outputs": [
    {
     "name": "stdout",
     "output_type": "stream",
     "text": [
      "Content successfully written to ./fdocs/intro1.docx\n"
     ]
    }
   ],
   "source": [
    " system_message = \"\"\"\n",
    "    You are an expert editor, educator and a skilled book maker in physics. \n",
    "    Your goal is to cutshort a long chapter into a meaningful chapter of 25 pages for class 9 (US).\n",
    "    You have to give the output strictly in error-free properly compilable LATEX format only. You can use beautiful colors, bold fonts, spacings and indents wherever needed.\n",
    "    You must keep 25,000 words minimum.\n",
    "\"\"\"\n",
    "\n",
    "\n",
    "file_path = \"./fdocs/intro.docx\"  # Replace with your DOCX file path\n",
    "presponse = src.read_docx(file_path)\n",
    "\n",
    "user_message = f\"\"\"\n",
    "\n",
    "    This a chapter with topics:    \n",
    "    \"\n",
    "    {topics}.\n",
    "    \"\n",
    "    ------------------------------------------------------------------------------------\n",
    "    Your reponse for this chapter was:\n",
    "    \"{presponse}\".\n",
    "    \n",
    "    --------------------------------------------------------------------------------------\n",
    "    --------------------------------------------------------------------------------------\n",
    "    \n",
    "    The goal is to cutdown the content to maximum of 3 pages.\n",
    "        \n",
    "    \"\n",
    "    Guidelines to keep in mind:\n",
    "    ---------------------------\n",
    "\n",
    "    Remove any repeated section, repeated concept, or repeated example or very elongated explanation that is beyond the context. \n",
    "    Also, keep the introduction to maximum of 2 pages.\n",
    "    Do not remove the \"Did you know\" paragraph or section. \n",
    "    Should be very quality.\n",
    "    \"\n",
    "\"\"\"\n",
    "    \n",
    "    \n",
    "src.from_prompt_gen_ans_main(\"./fdocs/intro1.docx\", system_message, user_message)"
   ]
  },
  {
   "cell_type": "code",
   "execution_count": null,
   "id": "6fee4246-5961-4141-8522-2b68e3c5b5eb",
   "metadata": {},
   "outputs": [],
   "source": []
  }
 ],
 "metadata": {
  "kernelspec": {
   "display_name": "Python 3 (ipykernel)",
   "language": "python",
   "name": "python3"
  },
  "language_info": {
   "codemirror_mode": {
    "name": "ipython",
    "version": 3
   },
   "file_extension": ".py",
   "mimetype": "text/x-python",
   "name": "python",
   "nbconvert_exporter": "python",
   "pygments_lexer": "ipython3",
   "version": "3.10.0"
  }
 },
 "nbformat": 4,
 "nbformat_minor": 5
}
